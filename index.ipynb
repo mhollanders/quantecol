{
  "cells": [
    {
      "cell_type": "raw",
      "metadata": {},
      "source": [
        "---\n",
        "pagetitle: \"Quantecol - Home\"\n",
        "---"
      ],
      "id": "270d3201"
    },
    {
      "cell_type": "markdown",
      "metadata": {},
      "source": [
        "## What We Do\n",
        "\n",
        "**Quantecol** offers a range of methodological and analytical [services](services.qmd) for efficient, effective, and honest scientific inference.\n",
        "\n",
        "### Study Design and Methodology\n",
        "\n",
        "Data forms the foundation of scientific studies but not all data are created equal. Statistical models make non-trivial assumptions about how the data were collected, which will influence the validity of your conclusions. We can provide you with study designs tailored to your system, with recommendations for appropriate sample sizes, surveying schemes, and more.\n",
        "\n",
        "### Data Analysis\n",
        "\n",
        "Your datasets often contain a wealth of information but complex models are frequently required to reveal these signals. We can help you with this process, ranging from tutorials and workshops for applying statistical methodology, to conducting the entire analysis for you in a clear, collaborative fashion.\n",
        "\n",
        "\n",
        "```{stan output.var = \"mod\"}\n",
        "model {\n",
        "  // log sample infection intensities\n",
        "  array[n_ind] matrix[n_sec, n_prim] log_n;\n",
        "  matrix[n_ind, n_prim] log_m = log(m)';\n",
        "  for (i in 1:n_ind) {\n",
        "    log_n[i] = rep_matrix(log_m[i], n_sec) + n_z[i] * sigma[2];\n",
        "  }\n",
        "  \n",
        "  // likehood of diagnostic infection intensities\n",
        "  for (j in 1:n_x) {\n",
        "    target += lognormal_lupdf(x[j] | log_n[ind[j]][sec[j], prim[j]], sigma[3]);\n",
        "  }\n",
        "  \n",
        "  // likelihood of CMR\n",
        "  target += reduce_sum(partial_sum_lupmf, seq_ind, grainsize, y, q, \n",
        "                       n_prim, n_sec, first, last, first_sec, tau, temp, \n",
        "                       phi_a, phi_b, psi_a, psi_b, p_a, r, lambda, m, n_z, sigma);\n",
        "}\n",
        "```\n",
        "\n",
        "\n",
        "![](img/code.png)\n",
        "\n",
        "### Visualisation and Reporting\n",
        "\n",
        "Communication of key results derived from our data is what advances scientific fields. We believe that honest reporting involves an appropriate display of uncertainty and does not hide the raw data. The services we offer are predicated on transparency and scientific integrity.\n",
        "\n",
        "![](img/fig-kaplam.jpg)"
      ],
      "id": "c42824b7"
    }
  ],
  "metadata": {
    "kernelspec": {
      "display_name": "Python 3",
      "language": "python",
      "name": "python3"
    }
  },
  "nbformat": 4,
  "nbformat_minor": 5
}